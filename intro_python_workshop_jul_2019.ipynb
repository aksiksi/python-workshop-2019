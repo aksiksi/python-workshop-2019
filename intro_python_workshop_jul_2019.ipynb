{
 "cells": [
  {
   "cell_type": "markdown",
   "metadata": {
    "hideCode": false,
    "hidePrompt": true
   },
   "source": [
    "<center><h1>Workshop: Introduction to Python</h1></center>\n",
    "\n",
    "<center><h2>ISET Medenine</h2></center>\n",
    "\n",
    "<center><h2>July 16th 2019</h2></center>"
   ]
  },
  {
   "cell_type": "markdown",
   "metadata": {
    "hideCode": false,
    "hidePrompt": false
   },
   "source": [
    "# Session 2: Basics of Python"
   ]
  },
  {
   "cell_type": "markdown",
   "metadata": {
    "hideCode": false,
    "hidePrompt": false
   },
   "source": [
    "## Variables and Basic Types\n",
    "\n",
    "Python has a number of basic data types, including `int`, `float`, `str`, and `bool`."
   ]
  },
  {
   "cell_type": "code",
   "execution_count": 286,
   "metadata": {
    "hideCode": false,
    "hidePrompt": false
   },
   "outputs": [
    {
     "name": "stdout",
     "output_type": "stream",
     "text": [
      "30.5\n"
     ]
    }
   ],
   "source": [
    "# ints and floats\n",
    "a = 10\n",
    "b = 20.5\n",
    "\n",
    "result = a + b\n",
    "print(result)"
   ]
  },
  {
   "cell_type": "code",
   "execution_count": 208,
   "metadata": {
    "hideCode": false,
    "hidePrompt": false
   },
   "outputs": [
    {
     "name": "stdout",
     "output_type": "stream",
     "text": [
      "-10.5\n",
      "205.0\n",
      "3.3333333333333335\n",
      "3\n",
      "1000\n"
     ]
    }
   ],
   "source": [
    "# Arithmetic operations\n",
    "print(a - b)\n",
    "print(a * b)\n",
    "print(a / 3)\n",
    "print(a // 3)\n",
    "print(a ** 3)"
   ]
  },
  {
   "cell_type": "code",
   "execution_count": 209,
   "metadata": {
    "hideCode": false,
    "hidePrompt": false
   },
   "outputs": [
    {
     "name": "stdout",
     "output_type": "stream",
     "text": [
      "10.0 20\n"
     ]
    }
   ],
   "source": [
    "# Casting between types\n",
    "a = float(a)\n",
    "b = int(b)\n",
    "print(a, b)"
   ]
  },
  {
   "cell_type": "code",
   "execution_count": 210,
   "metadata": {
    "hideCode": false,
    "hidePrompt": false
   },
   "outputs": [
    {
     "name": "stdout",
     "output_type": "stream",
     "text": [
      "Assil Ksiksi\n"
     ]
    }
   ],
   "source": [
    "first_name = \"Assil\"\n",
    "last_name = 'Ksiksi'\n",
    "full_name = first_name + \" \" + last_name\n",
    "print(full_name)"
   ]
  },
  {
   "cell_type": "markdown",
   "metadata": {},
   "source": [
    "**Question**: How can we add a space between the first and last name?"
   ]
  },
  {
   "cell_type": "code",
   "execution_count": 211,
   "metadata": {
    "hideCode": false,
    "hidePrompt": false
   },
   "outputs": [
    {
     "name": "stdout",
     "output_type": "stream",
     "text": [
      "10 20\n"
     ]
    }
   ],
   "source": [
    "x = str(10)\n",
    "y = int(\"20\")\n",
    "print(x, y)"
   ]
  },
  {
   "cell_type": "code",
   "execution_count": 212,
   "metadata": {
    "hideCode": false,
    "hidePrompt": false,
    "scrolled": true
   },
   "outputs": [
    {
     "name": "stdout",
     "output_type": "stream",
     "text": [
      "True\n",
      "False\n",
      "True\n",
      "True\n"
     ]
    }
   ],
   "source": [
    "# Booleans\n",
    "found = True\n",
    "valid = False\n",
    "\n",
    "print(found)\n",
    "print(found and valid)\n",
    "print(found or valid)\n",
    "print(not valid)"
   ]
  },
  {
   "cell_type": "code",
   "execution_count": 213,
   "metadata": {
    "hideCode": false,
    "hidePrompt": false
   },
   "outputs": [
    {
     "name": "stdout",
     "output_type": "stream",
     "text": [
      "True\n",
      "False\n",
      "False\n",
      "False\n"
     ]
    }
   ],
   "source": [
    "# Comparison\n",
    "age = 25\n",
    "\n",
    "equal_25 = (age == 25)\n",
    "not_equal_25 = (age != 25)\n",
    "less_than_25 = (age < 25)\n",
    "more_than_25 = (age > 25)\n",
    "\n",
    "print(equal_25)\n",
    "print(not_equal_25)\n",
    "print(less_than_25)\n",
    "print(more_than_25)"
   ]
  },
  {
   "cell_type": "code",
   "execution_count": 214,
   "metadata": {
    "hideCode": false,
    "hidePrompt": false
   },
   "outputs": [
    {
     "name": "stdout",
     "output_type": "stream",
     "text": [
      "What is your name?Assi\n",
      "Your name is: Assi\n"
     ]
    }
   ],
   "source": [
    "# User input\n",
    "name = input(\"What is your name?\")\n",
    "print(\"Your name is: \" + name)"
   ]
  },
  {
   "cell_type": "markdown",
   "metadata": {
    "hideCode": false,
    "hidePrompt": false
   },
   "source": [
    "## String Formatting\n",
    "\n",
    "There are two primary ways to format a string:\n",
    "\n",
    "1. C-style\n",
    "2. f-strings (Python 3.6+)"
   ]
  },
  {
   "cell_type": "code",
   "execution_count": 215,
   "metadata": {
    "hideCode": false,
    "hidePrompt": false,
    "scrolled": true
   },
   "outputs": [
    {
     "name": "stdout",
     "output_type": "stream",
     "text": [
      "Name = Assil, Age = 25\n",
      "Name = Assil, Age = 25\n"
     ]
    }
   ],
   "source": [
    "age = 25\n",
    "name = \"Assil\"\n",
    "\n",
    "# C-style formatting\n",
    "s1 = \"Name = %s, Age = %d\" % (name, age)\n",
    "print(s1)\n",
    "\n",
    "# f-strings (>= 3.6)\n",
    "s2 = f\"Name = {name}, Age = {age}\"\n",
    "print(s2)"
   ]
  },
  {
   "cell_type": "markdown",
   "metadata": {
    "hideCode": false,
    "hidePrompt": false
   },
   "source": [
    "## Flow Control and Looping"
   ]
  },
  {
   "cell_type": "markdown",
   "metadata": {
    "hideCode": false,
    "hidePrompt": false
   },
   "source": [
    "### Flow Control"
   ]
  },
  {
   "cell_type": "code",
   "execution_count": 216,
   "metadata": {
    "hideCode": false,
    "hidePrompt": false,
    "scrolled": true
   },
   "outputs": [
    {
     "name": "stdout",
     "output_type": "stream",
     "text": [
      "You are younger than 30\n"
     ]
    }
   ],
   "source": [
    "age = 25\n",
    "\n",
    "if age < 30:\n",
    "    print(\"You are younger than 30\")\n",
    "else:\n",
    "    print(\"You are older than 30\")"
   ]
  },
  {
   "cell_type": "code",
   "execution_count": 217,
   "metadata": {
    "hideCode": false,
    "hidePrompt": false,
    "scrolled": false
   },
   "outputs": [
    {
     "name": "stdout",
     "output_type": "stream",
     "text": [
      "You are between 20 and 30\n"
     ]
    }
   ],
   "source": [
    "age = 25\n",
    "\n",
    "if age < 20:\n",
    "    print(\"You are younger than 20\")\n",
    "elif age >= 20 and age < 30:\n",
    "    print(\"You are between 20 and 30\")\n",
    "else:\n",
    "    print(\"You are older than 30\")"
   ]
  },
  {
   "cell_type": "markdown",
   "metadata": {
    "hideCode": false,
    "hidePrompt": false
   },
   "source": [
    "### Looping"
   ]
  },
  {
   "cell_type": "markdown",
   "metadata": {
    "hideCode": false,
    "hidePrompt": false
   },
   "source": [
    "There are two kinds of looping structures in Python:\n",
    "\n",
    "1. `for` loop\n",
    "2. `while` loop"
   ]
  },
  {
   "cell_type": "code",
   "execution_count": 218,
   "metadata": {
    "hideCode": false,
    "hidePrompt": false,
    "scrolled": false
   },
   "outputs": [
    {
     "name": "stdout",
     "output_type": "stream",
     "text": [
      "1\n",
      "2\n",
      "3\n",
      "4\n",
      "5\n"
     ]
    }
   ],
   "source": [
    "nums = [1, 2, 3, 4, 5]\n",
    "\n",
    "for n in nums:\n",
    "    print(n)"
   ]
  },
  {
   "cell_type": "code",
   "execution_count": 219,
   "metadata": {
    "hideCode": false,
    "hidePrompt": false
   },
   "outputs": [
    {
     "name": "stdout",
     "output_type": "stream",
     "text": [
      "0\n",
      "1\n",
      "2\n",
      "3\n",
      "4\n"
     ]
    }
   ],
   "source": [
    "i = 0\n",
    "\n",
    "while i < 5:\n",
    "    print(i)\n",
    "    i += 1"
   ]
  },
  {
   "cell_type": "markdown",
   "metadata": {
    "hideCode": false,
    "hidePrompt": false
   },
   "source": [
    "## Basic Data Structures\n",
    "\n",
    "There are three main data structures in Python:\n",
    "\n",
    "1. List\n",
    "2. Dictionary\n",
    "3. Tuple\n",
    "\n",
    "Lists are equivalent to array lists in other languages.  You can insert and remove elements of any type into a list.  Dictionaries map keys to values and are extremely useful for managing more complex data.  Tuples are basically fixed-size lists."
   ]
  },
  {
   "cell_type": "code",
   "execution_count": 220,
   "metadata": {
    "hideCode": false,
    "hidePrompt": false,
    "scrolled": true
   },
   "outputs": [
    {
     "name": "stdout",
     "output_type": "stream",
     "text": [
      "['apple', 'orange']\n",
      "2\n",
      "['apple', 'orange', 'banana', 3]\n",
      "['orange', 'banana', 3]\n"
     ]
    }
   ],
   "source": [
    "# Lists\n",
    "fruits = [\"apple\", \"orange\"]\n",
    "print(fruits)\n",
    "\n",
    "# Length of a list\n",
    "print(len(fruits))\n",
    "\n",
    "# Insertion\n",
    "fruits.append(\"banana\")\n",
    "fruits.append(3)\n",
    "print(fruits)\n",
    "\n",
    "# Remove by value\n",
    "fruits.remove(\"apple\")\n",
    "print(fruits)"
   ]
  },
  {
   "cell_type": "code",
   "execution_count": 221,
   "metadata": {
    "hideCode": true,
    "hideOutput": true,
    "hidePrompt": false
   },
   "outputs": [
    {
     "name": "stdout",
     "output_type": "stream",
     "text": [
      "some_fruits = ['banana']\n",
      "['orange', 'banana', 3]\n",
      "4600323784 4602400264\n"
     ]
    }
   ],
   "source": [
    "# List slices\n",
    "some_fruits = fruits[1:2]\n",
    "print(\"some_fruits = %s\" % some_fruits)\n",
    "print(fruits)\n",
    "\n",
    "# Copy list via slicing\n",
    "new_fruits = fruits[:]\n",
    "print(id(new_fruits), id(fruits))"
   ]
  },
  {
   "cell_type": "code",
   "execution_count": 222,
   "metadata": {
    "hideCode": false,
    "hidePrompt": false,
    "scrolled": true
   },
   "outputs": [
    {
     "name": "stdout",
     "output_type": "stream",
     "text": [
      "{'Ahmed': 18, 'Sara': 14, 'Bilal': 10}\n",
      "{'Ahmed': 18, 'Sara': 14, 'Bilal': 10, 'Saeed': 12.5}\n",
      "{'Sara': 14, 'Bilal': 10, 'Saeed': 12.5}\n",
      "{'Sara': 14, 'Bilal': 10, 'Saeed': 12.5, 'Class 03': {'James': 13, 'Samir': 11.25}}\n"
     ]
    }
   ],
   "source": [
    "# Dictionaries\n",
    "student_grades = {\"Ahmed\": 18, \"Sara\": 14, \"Bilal\": 10}\n",
    "print(student_grades)\n",
    "\n",
    "# Insertion\n",
    "student_grades[\"Saeed\"] = 12.5\n",
    "print(student_grades)\n",
    "\n",
    "# Removal\n",
    "del student_grades[\"Ahmed\"]\n",
    "print(student_grades)\n",
    "\n",
    "# Multiple types\n",
    "student_grades[\"Class 03\"] = {\"James\": 13, \"Samir\": 11.25}\n",
    "print(student_grades)"
   ]
  },
  {
   "cell_type": "markdown",
   "metadata": {
    "hideCode": false,
    "hidePrompt": false
   },
   "source": [
    "## Functions\n",
    "\n",
    "Functions are a very important part of any programming language.  They allow you to define pieces of code that can be easily reused anywhere in your code."
   ]
  },
  {
   "cell_type": "code",
   "execution_count": 223,
   "metadata": {
    "hideCode": false,
    "hidePrompt": false
   },
   "outputs": [
    {
     "name": "stdout",
     "output_type": "stream",
     "text": [
      "3\n"
     ]
    }
   ],
   "source": [
    "def add(x, y):\n",
    "    return x + y\n",
    "\n",
    "result = add(1, 2)\n",
    "print(result)"
   ]
  },
  {
   "cell_type": "code",
   "execution_count": 224,
   "metadata": {
    "hideCode": false,
    "hidePrompt": false,
    "scrolled": true
   },
   "outputs": [
    {
     "name": "stdout",
     "output_type": "stream",
     "text": [
      "How old are you?18\n",
      "You are 18 or older\n"
     ]
    }
   ],
   "source": [
    "def is_age_valid(age):\n",
    "    if age >= 18:\n",
    "        return True\n",
    "    else:\n",
    "        return False\n",
    "    \n",
    "age_input = input(\"How old are you?\")\n",
    "\n",
    "if is_age_valid(int(age_input)):\n",
    "    print(\"You are 18 or older\")\n",
    "else:\n",
    "    print(\"You are younger than 18\")"
   ]
  },
  {
   "cell_type": "code",
   "execution_count": 225,
   "metadata": {
    "hideCode": false,
    "hidePrompt": false
   },
   "outputs": [
    {
     "name": "stdout",
     "output_type": "stream",
     "text": [
      "50\n",
      "55\n"
     ]
    }
   ],
   "source": [
    "# Default parameters\n",
    "def multiply(x, y=10):\n",
    "    return x * y\n",
    "\n",
    "print(multiply(5))\n",
    "print(multiply(5, 11))"
   ]
  },
  {
   "cell_type": "markdown",
   "metadata": {
    "hideCode": false,
    "hidePrompt": false
   },
   "source": [
    "## Built-in Functions\n",
    "\n",
    "Python has a number of built-in functions that you can use anywhere in your code.  A full list can be seen here: https://docs.python.org/3/library/functions.html"
   ]
  },
  {
   "cell_type": "markdown",
   "metadata": {
    "hideCode": false,
    "hidePrompt": false
   },
   "source": [
    "### Range\n",
    "\n",
    "`range` is an important built-in function that can be used to generate a list of numbers, and is commonly used in `for` loops."
   ]
  },
  {
   "cell_type": "code",
   "execution_count": 226,
   "metadata": {
    "hideCode": false,
    "hidePrompt": false,
    "scrolled": false
   },
   "outputs": [
    {
     "name": "stdout",
     "output_type": "stream",
     "text": [
      "[0, 1, 2, 3, 4, 5, 6, 7, 8, 9]\n",
      "[1, 2, 3, 4, 5, 6, 7, 8, 9]\n",
      "[1, 3, 5, 7, 9]\n",
      "0\n",
      "1\n",
      "2\n",
      "3\n",
      "4\n"
     ]
    }
   ],
   "source": [
    "nums = range(10)\n",
    "print(list(nums))\n",
    "\n",
    "print(list(range(1, 10)))    # Start from a value\n",
    "print(list(range(1, 10, 2))) # Use a different \"step\"\n",
    "\n",
    "for i in range(5):\n",
    "    print(i)"
   ]
  },
  {
   "cell_type": "markdown",
   "metadata": {
    "hideCode": false,
    "hidePrompt": false
   },
   "source": [
    "### Sorting\n",
    "\n",
    "Sorting a list is a very common operation, so Python gives us a function that can do it for us! Note that it returns a *new* list (actually, a generator)."
   ]
  },
  {
   "cell_type": "code",
   "execution_count": 227,
   "metadata": {
    "hideCode": false,
    "hidePrompt": false
   },
   "outputs": [
    {
     "name": "stdout",
     "output_type": "stream",
     "text": [
      "[1, 2, 3, 4, 5]\n"
     ]
    }
   ],
   "source": [
    "nums = [5, 3, 2, 1, 4]\n",
    "sorted_nums = sorted(nums)\n",
    "\n",
    "print(list(sorted_nums))"
   ]
  },
  {
   "cell_type": "markdown",
   "metadata": {
    "hideCode": false,
    "hidePrompt": false
   },
   "source": [
    "### Math-related Functions"
   ]
  },
  {
   "cell_type": "code",
   "execution_count": 228,
   "metadata": {
    "hideCode": false,
    "hidePrompt": false,
    "scrolled": true
   },
   "outputs": [
    {
     "name": "stdout",
     "output_type": "stream",
     "text": [
      "1 100\n",
      "10\n",
      "11\n",
      "8\n"
     ]
    }
   ],
   "source": [
    "# Min and max\n",
    "x = min(1, 10)\n",
    "y = max(1, 10, 100)\n",
    "print(x, y)\n",
    "\n",
    "# Absolute value\n",
    "n = abs(-10)\n",
    "print(n)\n",
    "\n",
    "# Rounding\n",
    "f = round(10.54)\n",
    "print(f)\n",
    "\n",
    "# Power\n",
    "print(pow(2, 3))"
   ]
  },
  {
   "cell_type": "markdown",
   "metadata": {},
   "source": [
    "## Others"
   ]
  },
  {
   "cell_type": "code",
   "execution_count": 252,
   "metadata": {},
   "outputs": [
    {
     "name": "stdout",
     "output_type": "stream",
     "text": [
      "<class 'int'>\n",
      "<class 'str'>\n"
     ]
    }
   ],
   "source": [
    "# Get type of an object\n",
    "print(type(5))\n",
    "print(type(\"abc\"))"
   ]
  },
  {
   "cell_type": "markdown",
   "metadata": {
    "hideCode": false,
    "hidePrompt": false
   },
   "source": [
    "## Working with Files\n",
    "\n",
    "When writing software, it is common to need to either read from files or write to them.  Python makes it easy to do this."
   ]
  },
  {
   "cell_type": "code",
   "execution_count": 229,
   "metadata": {
    "hideCode": false,
    "hidePrompt": false
   },
   "outputs": [],
   "source": [
    "f = open(\"abc.txt\", \"w\")\n",
    "\n",
    "f.write(\"My name is Assil!\\n\")\n",
    "f.writelines([\"Line 1\\n\", \"Line 2\"])\n",
    "\n",
    "f.close()"
   ]
  },
  {
   "cell_type": "markdown",
   "metadata": {},
   "source": [
    "### Opening a File"
   ]
  },
  {
   "cell_type": "code",
   "execution_count": 230,
   "metadata": {
    "hideCode": false,
    "hidePrompt": false,
    "scrolled": false
   },
   "outputs": [
    {
     "name": "stdout",
     "output_type": "stream",
     "text": [
      "My name is Assil!\n",
      "Line 1\n",
      "Line 2\n"
     ]
    }
   ],
   "source": [
    "f = open(\"abc.txt\", \"r\")\n",
    "\n",
    "content = f.read()\n",
    "print(content)\n",
    "\n",
    "f.close()"
   ]
  },
  {
   "cell_type": "markdown",
   "metadata": {
    "hideCode": false,
    "hidePrompt": false
   },
   "source": [
    "**Extra:** A cleaner way to work with files is to take advantage of the `with` statement (\"context manager\"):"
   ]
  },
  {
   "cell_type": "code",
   "execution_count": 231,
   "metadata": {
    "hideCode": false,
    "hidePrompt": false,
    "scrolled": true
   },
   "outputs": [
    {
     "name": "stdout",
     "output_type": "stream",
     "text": [
      "My name is Assil!\n",
      "Line 1\n",
      "Line 2\n"
     ]
    }
   ],
   "source": [
    "with open(\"abc.txt\", \"r\") as f:\n",
    "    print(f.read())"
   ]
  },
  {
   "cell_type": "markdown",
   "metadata": {
    "hideCode": false,
    "hidePrompt": false
   },
   "source": [
    "# Session 3: Object-Oriented Programming (OOP)"
   ]
  },
  {
   "cell_type": "markdown",
   "metadata": {
    "hideCode": false,
    "hidePrompt": false
   },
   "source": [
    "## Creating a Class\n",
    "\n",
    "Let's take the example of representing a Facebook user.  The basic information a Facebook user has is an email, a password, a first name, and a last name.  How do we represent a user using OOP?"
   ]
  },
  {
   "cell_type": "code",
   "execution_count": 232,
   "metadata": {
    "hideCode": false,
    "hidePrompt": false,
    "scrolled": true
   },
   "outputs": [],
   "source": [
    "class User:\n",
    "    def __init__(self, email, password, first_name, last_name):\n",
    "        self.email = email\n",
    "        self.password = password\n",
    "        self.first_name = first_name\n",
    "        self.last_name = last_name"
   ]
  },
  {
   "cell_type": "markdown",
   "metadata": {
    "hideCode": false,
    "hidePrompt": false
   },
   "source": [
    "Great! We have now defined our user **class**.\n",
    "\n",
    "A class defines the structure of the user by listing what information a user has (**attributes**) and the operations a user can perform (**methods**).\n",
    "\n",
    "Here, we have a single method defined called `__init__`.  This is a special method that is called when an object is created.  In OOP, we call this a **constructor**."
   ]
  },
  {
   "cell_type": "markdown",
   "metadata": {
    "hideCode": false,
    "hidePrompt": false
   },
   "source": [
    "## Creating Objects\n",
    "\n",
    "We can now use this `User` class to create one or more **objects**.  Each object represents a single instance of the class; in our case, each object we map to a single user."
   ]
  },
  {
   "cell_type": "code",
   "execution_count": 233,
   "metadata": {
    "hideCode": false,
    "hidePrompt": false,
    "scrolled": false
   },
   "outputs": [
    {
     "name": "stdout",
     "output_type": "stream",
     "text": [
      "Assil aksiksi@cisco.com abc123\n",
      "Sara sara.ahmed@gmail.com def456\n"
     ]
    }
   ],
   "source": [
    "user1 = User(\"aksiksi@cisco.com\", \"abc123\", \"Assil\", \"Ksiksi\")\n",
    "user2 = User(\"sara.ahmed@gmail.com\", \"def456\", \"Sara\", \"Ahmed\")\n",
    "\n",
    "print(user1.first_name, user1.email, user1.password)\n",
    "print(user2.first_name, user2.email, user2.password)"
   ]
  },
  {
   "cell_type": "markdown",
   "metadata": {
    "hideCode": false,
    "hidePrompt": false
   },
   "source": [
    "## Methods"
   ]
  },
  {
   "cell_type": "markdown",
   "metadata": {
    "hideCode": false,
    "hidePrompt": false
   },
   "source": [
    "Let's expand our class with a new **method**.  A common operation is to get the user's full name."
   ]
  },
  {
   "cell_type": "code",
   "execution_count": 234,
   "metadata": {
    "hideCode": false,
    "hidePrompt": false
   },
   "outputs": [],
   "source": [
    "class User:\n",
    "    def __init__(self, email, password, first_name, last_name):\n",
    "        self.email = email\n",
    "        self.password = password\n",
    "        self.first_name = first_name\n",
    "        self.last_name = last_name\n",
    "        \n",
    "    def get_full_name(self):\n",
    "        full_name = \"%s %s\" % (self.first_name, self.last_name)\n",
    "        return full_name"
   ]
  },
  {
   "cell_type": "code",
   "execution_count": 235,
   "metadata": {
    "hideCode": false,
    "hidePrompt": false
   },
   "outputs": [
    {
     "name": "stdout",
     "output_type": "stream",
     "text": [
      "Assil Ksiksi\n"
     ]
    }
   ],
   "source": [
    "user1 = User(\"aksiksi@cisco.com\", \"abc123\", \"Assil\", \"Ksiksi\")\n",
    "print(user1.get_full_name())"
   ]
  },
  {
   "cell_type": "code",
   "execution_count": null,
   "metadata": {},
   "outputs": [],
   "source": []
  },
  {
   "cell_type": "markdown",
   "metadata": {
    "hideCode": false,
    "hidePrompt": false
   },
   "source": [
    "## Object State\n",
    "\n",
    "Recall that users can also have zero or more photos. First, let's modify our `User` class:"
   ]
  },
  {
   "cell_type": "code",
   "execution_count": 236,
   "metadata": {
    "hideCode": false,
    "hidePrompt": false
   },
   "outputs": [],
   "source": [
    "class User:\n",
    "    def __init__(self, email, password, first_name, last_name):\n",
    "        self.email = email\n",
    "        self.password = password\n",
    "        self.first_name = first_name\n",
    "        self.last_name = last_name\n",
    "        \n",
    "        # List of photos uploaded by this user\n",
    "        self.photos = []\n",
    "        \n",
    "    def get_full_name(self):\n",
    "        full_name = \"%s %s\" % (self.first_name, self.last_name)\n",
    "        return full_name\n",
    "        \n",
    "    def upload_photo(self, photo):\n",
    "        self.photos.append(photo)"
   ]
  },
  {
   "cell_type": "markdown",
   "metadata": {
    "hideCode": false,
    "hidePrompt": false
   },
   "source": [
    "So how do we define a photo?  We create a new class:"
   ]
  },
  {
   "cell_type": "code",
   "execution_count": 237,
   "metadata": {
    "hideCode": false,
    "hidePrompt": false
   },
   "outputs": [],
   "source": [
    "class Photo:\n",
    "    def __init__(self, user, date, url):\n",
    "        self.user = user\n",
    "        self.date = date\n",
    "        self.url = url\n",
    "        self.size = 100.0 # TODO: Fix this"
   ]
  },
  {
   "cell_type": "code",
   "execution_count": 238,
   "metadata": {
    "hideCode": false,
    "hidePrompt": false,
    "scrolled": true
   },
   "outputs": [
    {
     "name": "stdout",
     "output_type": "stream",
     "text": [
      "[<__main__.Photo object at 0x11257f0b8>]\n"
     ]
    }
   ],
   "source": [
    "user1 = User(\"aksiksi@cisco.com\", \"abc123\", \"Assil\", \"Ksiksi\")\n",
    "photo = Photo(user1, \"2019-07-16\",\n",
    "              \"https://images.pexels.com/photos/67636/rose-blue-flower-rose-blooms-67636.jpeg?auto=compress&cs=tinysrgb&dpr=2&h=650&w=940\")\n",
    "\n",
    "user1.upload_photo(photo)\n",
    "print(user1.photos)"
   ]
  },
  {
   "cell_type": "markdown",
   "metadata": {
    "hideCode": false,
    "hidePrompt": false
   },
   "source": [
    "This should be enough to work with classes and objects."
   ]
  },
  {
   "cell_type": "markdown",
   "metadata": {
    "hideCode": false,
    "hidePrompt": false
   },
   "source": [
    "## Inheritance\n",
    "\n",
    "In many cases, you need to create a new class that shares some attributes and methods with an existing class.  Suppose we would like to add a `ProfilePhoto` class.  We can use the concept of inheritance to re-use some methods and/or attributes.  The two classes then become \"parent-child\", where `Photo` is the parent and `ProfilePhoto` is the child."
   ]
  },
  {
   "cell_type": "code",
   "execution_count": 239,
   "metadata": {
    "hideCode": false,
    "hidePrompt": false
   },
   "outputs": [],
   "source": [
    "class ProfilePhoto(Photo):\n",
    "    def __init__(self, user, url):\n",
    "        super().__init__(user, \"2019-07-16\", url)\n",
    "        print(\"This is a profile photo!\")"
   ]
  },
  {
   "cell_type": "markdown",
   "metadata": {},
   "source": [
    "**Extra**: We can modify the string for an object to show more information by overriding `__str__`."
   ]
  },
  {
   "cell_type": "code",
   "execution_count": 240,
   "metadata": {
    "hideCode": false,
    "hidePrompt": false
   },
   "outputs": [
    {
     "name": "stdout",
     "output_type": "stream",
     "text": [
      "This is a profile photo!\n",
      "100.0 2019-07-16\n"
     ]
    }
   ],
   "source": [
    "p = ProfilePhoto(user1, \"http://myphoto.com/photo.png\")\n",
    "print(p.size, p.date)"
   ]
  },
  {
   "cell_type": "code",
   "execution_count": null,
   "metadata": {},
   "outputs": [],
   "source": []
  },
  {
   "cell_type": "markdown",
   "metadata": {
    "hideCode": false,
    "hidePrompt": false
   },
   "source": [
    "\n",
    "# Session 4: The Python Standard Library"
   ]
  },
  {
   "cell_type": "markdown",
   "metadata": {
    "hideCode": false,
    "hidePrompt": false
   },
   "source": [
    "## `time`\n",
    "\n",
    "`time` provides functions to operate on timestamps.\n",
    "\n",
    "Full API documentation: https://docs.python.org/3/library/time.html"
   ]
  },
  {
   "cell_type": "code",
   "execution_count": 249,
   "metadata": {
    "hideCode": false,
    "hidePrompt": false
   },
   "outputs": [
    {
     "name": "stdout",
     "output_type": "stream",
     "text": [
      "Unix timestamp: 1563218355.408323\n",
      "Local time struct: time.struct_time(tm_year=2019, tm_mon=7, tm_mday=15, tm_hour=20, tm_min=19, tm_sec=15, tm_wday=0, tm_yday=196, tm_isdst=0)\n",
      "UTC time struct: time.struct_time(tm_year=2019, tm_mon=7, tm_mday=15, tm_hour=19, tm_min=19, tm_sec=15, tm_wday=0, tm_yday=196, tm_isdst=0)\n",
      "Hour in local time: 20\n",
      "Mon Jul 15 20:19:15 2019\n",
      "20:19\n"
     ]
    }
   ],
   "source": [
    "import time\n",
    "\n",
    "ts = time.time()\n",
    "print(\"Unix timestamp:\", t)\n",
    "\n",
    "local_time_struct = time.localtime(t)\n",
    "utc_time_struct = time.gmtime(t)\n",
    "\n",
    "print(\"Local time struct:\", local_time_struct)\n",
    "print(\"UTC time struct:\", utc_time_struct)\n",
    "\n",
    "print(\"Hour in local time:\", local_time_struct.tm_hour)\n",
    "\n",
    "# Convert struct to string\n",
    "print(time.asctime(local_time_struct))\n",
    "\n",
    "# Convert to custom string\n",
    "print(time.strftime(\"%H:%M\", local_time_struct))"
   ]
  },
  {
   "cell_type": "markdown",
   "metadata": {},
   "source": [
    "## `datetime`\n",
    "\n",
    "datetime provides OOP-style date representation and conversion. "
   ]
  },
  {
   "cell_type": "code",
   "execution_count": 256,
   "metadata": {
    "hideCode": false,
    "hidePrompt": false
   },
   "outputs": [
    {
     "name": "stdout",
     "output_type": "stream",
     "text": [
      "2019-07-15 21:01:48.687283\n",
      "2019-07-15T21:01:48.687283\n",
      "7 21\n",
      "2019-07-15 20:01:48.687578\n",
      "20:01\n"
     ]
    }
   ],
   "source": [
    "import datetime\n",
    "\n",
    "dt = datetime.datetime.now()\n",
    "print(dt)\n",
    "print(dt.isoformat())\n",
    "print(dt.month, dt.hour)\n",
    "\n",
    "dt_utc = datetime.datetime.utcnow()\n",
    "print(dt_utc)\n",
    "\n",
    "# Also has strftime, but as a method!\n",
    "print(dt_utc.strftime(\"%H:%M\"))"
   ]
  },
  {
   "cell_type": "code",
   "execution_count": 253,
   "metadata": {
    "hideCode": false,
    "hidePrompt": false
   },
   "outputs": [
    {
     "name": "stdout",
     "output_type": "stream",
     "text": [
      "2019-07-15 22:58:01.360598\n",
      "2:00:00 <class 'datetime.timedelta'>\n",
      "True\n"
     ]
    }
   ],
   "source": [
    "# Create datetime 2 hours in the future\n",
    "dt_new = dt + datetime.timedelta(hours=2)\n",
    "print(dt_new)\n",
    "\n",
    "# Subtract the two datetimes to get a timedelta object\n",
    "diff = dt_new - dt\n",
    "print(diff, type(diff))\n",
    "\n",
    "# Compare datetimes\n",
    "print(dt_new > dt)"
   ]
  },
  {
   "cell_type": "markdown",
   "metadata": {
    "hideCode": false,
    "hidePrompt": false
   },
   "source": [
    "## `math`"
   ]
  },
  {
   "cell_type": "code",
   "execution_count": 244,
   "metadata": {
    "hideCode": false,
    "hidePrompt": false
   },
   "outputs": [
    {
     "name": "stdout",
     "output_type": "stream",
     "text": [
      "2^1.5: 2.8284271247461903\n",
      "sqrt(16): 4.0\n",
      "cos(90) and sin(45): 6.123233995736766e-17 0.7071067811865475\n",
      "Log10(100): 2.0\n",
      "Log2(8): 3.0\n"
     ]
    }
   ],
   "source": [
    "import math\n",
    "\n",
    "print(\"2^1.5:\", math.pow(2, 1.5))\n",
    "\n",
    "print(\"sqrt(16):\", math.sqrt(16))\n",
    "\n",
    "print(\"cos(90) and sin(45):\", math.cos(math.pi/2), math.sin(math.pi/4))\n",
    "\n",
    "print(\"Log10(100):\", math.log10(100))\n",
    "print(\"Log2(8):\", math.log2(8))"
   ]
  },
  {
   "cell_type": "markdown",
   "metadata": {
    "hideCode": false,
    "hidePrompt": false
   },
   "source": [
    "## `os` and `os.path`"
   ]
  },
  {
   "cell_type": "code",
   "execution_count": 270,
   "metadata": {},
   "outputs": [
    {
     "name": "stdout",
     "output_type": "stream",
     "text": [
      "/Users/aksiksi/Documents/Docs/Workshops\n",
      "['hello.py', 'python-workshop.log', 'python-workshop.aux', 'abc.txt', 'outline.md', 'slides.pptx', 'python-workshop.tex', '~$python_workshop.pptx', 'python-workshop.synctex.gz', 'intro_python_workshop_jul_2019.ipynb', '.ipynb_checkpoints', 'python_workshop.pptx', 'tmp', 'python-workshop.pdf']\n",
      "aksiksi\n"
     ]
    }
   ],
   "source": [
    "import os\n",
    "\n",
    "# Current working directory\n",
    "print(os.getcwd())\n",
    "\n",
    "# Get files in current dir\n",
    "print(os.listdir())\n",
    "\n",
    "# Get an environment variable\n",
    "print(os.getenv(\"USER\"))\n",
    "\n",
    "# Create directory recursively (ignore if exists)\n",
    "os.makedirs(\"tmp\", exist_ok=True)"
   ]
  },
  {
   "cell_type": "code",
   "execution_count": 275,
   "metadata": {},
   "outputs": [
    {
     "name": "stdout",
     "output_type": "stream",
     "text": [
      "True\n",
      "False\n",
      "tmp/abc/test.txt\n"
     ]
    }
   ],
   "source": [
    "import os.path\n",
    "\n",
    "print(os.path.exists(\"tmp\"))\n",
    "print(os.path.isfile(\"tmp\"))\n",
    "print(os.path.join(\"tmp\", \"abc\", \"test.txt\"))"
   ]
  },
  {
   "cell_type": "markdown",
   "metadata": {
    "hideCode": false,
    "hidePrompt": false
   },
   "source": [
    "## Other useful libraries"
   ]
  },
  {
   "cell_type": "code",
   "execution_count": 279,
   "metadata": {},
   "outputs": [
    {
     "name": "stdout",
     "output_type": "stream",
     "text": [
      "{\"a\": 10, \"b\": [1, 2, 3]}\n",
      "{'a': 10, 'b': [1, 2, 3]}\n"
     ]
    }
   ],
   "source": [
    "import json\n",
    "d = {\"a\": 10, \"b\": [1, 2, 3]}\n",
    "s = json.dumps(d)\n",
    "\n",
    "print(s)\n",
    "print(json.loads(s))"
   ]
  },
  {
   "cell_type": "code",
   "execution_count": 284,
   "metadata": {},
   "outputs": [
    {
     "name": "stdout",
     "output_type": "stream",
     "text": [
      "8\n",
      "Ahmed\n",
      "['Adam', 'Ahmed', 'John']\n"
     ]
    }
   ],
   "source": [
    "import random\n",
    "\n",
    "print(random.randrange(1, 10))\n",
    "\n",
    "names = [\"John\", \"Ahmed\", \"Adam\"]\n",
    "print(random.choice(names))\n",
    "\n",
    "random.shuffle(names)\n",
    "print(names)"
   ]
  },
  {
   "cell_type": "code",
   "execution_count": 285,
   "metadata": {},
   "outputs": [],
   "source": [
    "# argparse"
   ]
  },
  {
   "cell_type": "markdown",
   "metadata": {
    "hideCode": false,
    "hidePrompt": false
   },
   "source": [
    "# Session 5: Using Python Packages"
   ]
  },
  {
   "cell_type": "markdown",
   "metadata": {
    "hideCode": false,
    "hidePrompt": false
   },
   "source": [
    "## Installing a package\n",
    "\n",
    "Open a shell -- e.g., the Anaconda prompt -- and use `pip` as follows:\n",
    "\n",
    "```\n",
    "pip install requests\n",
    "```\n",
    "\n",
    "This will install the [Requests](https://python-requests.org/en/master/) package from [PyPI](https://pypi.org/).  PyPI is the official Python package index.\n",
    "\n",
    "The package is already provided with Anaconda, so you do not need to install it during the workshop."
   ]
  },
  {
   "cell_type": "markdown",
   "metadata": {
    "hideCode": false,
    "hidePrompt": false
   },
   "source": [
    "## Using a package\n",
    "\n",
    "Once the package is installed in your environment, you can just import it!"
   ]
  },
  {
   "cell_type": "code",
   "execution_count": 245,
   "metadata": {
    "hideCode": false,
    "hidePrompt": false
   },
   "outputs": [],
   "source": [
    "import requests"
   ]
  },
  {
   "cell_type": "markdown",
   "metadata": {
    "hideCode": false,
    "hidePrompt": false
   },
   "source": [
    "# Session 6: Jupyter Notebooks\n",
    "\n",
    "Jupyter notebooks are a powerful way to quickly prototype ideas and share results.  They are used quite extensively in data analysis and machine learning, for example.\n",
    "\n",
    "To install:\n",
    "\n",
    "```\n",
    "pip install jupyter\n",
    "\n",
    "```\n",
    "\n",
    "To start the notebook server, from your terminal:\n",
    "\n",
    "```\n",
    "jupyter notebook\n",
    "```\n",
    "\n",
    "A page will open up in your browser.  Use the button on the top-right on the page to create a new notebook."
   ]
  },
  {
   "cell_type": "code",
   "execution_count": 246,
   "metadata": {
    "hideCode": false,
    "hidePrompt": false,
    "scrolled": true
   },
   "outputs": [
    {
     "name": "stdout",
     "output_type": "stream",
     "text": [
      "30\n"
     ]
    }
   ],
   "source": [
    "# You can write code in a notebook\n",
    "a = 10\n",
    "b = 20\n",
    "print(f\"{a+b}\")"
   ]
  },
  {
   "cell_type": "markdown",
   "metadata": {},
   "source": [
    "# Session 6: Questions and Answers!"
   ]
  },
  {
   "cell_type": "code",
   "execution_count": null,
   "metadata": {},
   "outputs": [],
   "source": []
  }
 ],
 "metadata": {
  "hide_code_all_hidden": true,
  "kernelspec": {
   "display_name": "Python 3",
   "language": "python",
   "name": "python3"
  },
  "language_info": {
   "codemirror_mode": {
    "name": "ipython",
    "version": 3
   },
   "file_extension": ".py",
   "mimetype": "text/x-python",
   "name": "python",
   "nbconvert_exporter": "python",
   "pygments_lexer": "ipython3",
   "version": "3.7.0"
  }
 },
 "nbformat": 4,
 "nbformat_minor": 2
}
